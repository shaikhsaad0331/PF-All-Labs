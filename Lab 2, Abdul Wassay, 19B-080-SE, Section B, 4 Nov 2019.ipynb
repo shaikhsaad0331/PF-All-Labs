{
 "cells": [
  {
   "cell_type": "markdown",
   "metadata": {},
   "source": [
    "# Abdul Wassay, 19B-080-SE\n",
    "# Sec B, 4 Nov 2019"
   ]
  },
  {
   "cell_type": "markdown",
   "metadata": {},
   "source": [
    "# Problem 1"
   ]
  },
  {
   "cell_type": "code",
   "execution_count": 1,
   "metadata": {},
   "outputs": [
    {
     "name": "stdout",
     "output_type": "stream",
     "text": [
      "[10, 22, 44, 23, 4]\n",
      "[10, 22, 44, 23, 4]\n"
     ]
    }
   ],
   "source": [
    "ol1=[10, 22, 44, 23, 4]\n",
    "nl2=list(ol1)\n",
    "print(ol1)\n",
    "print(nl2)"
   ]
  },
  {
   "cell_type": "markdown",
   "metadata": {},
   "source": [
    "# Problem 2"
   ]
  },
  {
   "cell_type": "code",
   "execution_count": 2,
   "metadata": {},
   "outputs": [
    {
     "name": "stdout",
     "output_type": "stream",
     "text": [
      "()\n",
      "()\n"
     ]
    }
   ],
   "source": [
    "#Empty Tuple\n",
    "x=()\n",
    "print(x)\n",
    "#Empty tuple with tuple function\n",
    "t1=tuple()\n",
    "print(t1)"
   ]
  },
  {
   "cell_type": "markdown",
   "metadata": {},
   "source": [
    "# Problem 3"
   ]
  },
  {
   "cell_type": "code",
   "execution_count": 3,
   "metadata": {},
   "outputs": [
    {
     "name": "stdout",
     "output_type": "stream",
     "text": [
      "('tuple', False, 3.2, 1)\n"
     ]
    }
   ],
   "source": [
    "#Tuple with different data types\n",
    "t1=(\"tuple\", False, 3.2, 1)\n",
    "print(t1)"
   ]
  },
  {
   "cell_type": "markdown",
   "metadata": {},
   "source": [
    "# Problem 4"
   ]
  },
  {
   "cell_type": "code",
   "execution_count": 4,
   "metadata": {},
   "outputs": [
    {
     "name": "stdout",
     "output_type": "stream",
     "text": [
      "('U', 'I', 'T', 2, 0, 1, 9, 'b', 'a', 't', 'c', 'h')\n",
      "2\n",
      "a\n"
     ]
    }
   ],
   "source": [
    "t=(\"U\", \"I\", \"T\", 2, 0, 1, 9, \"b\", \"a\", \"t\", \"c\", \"h\")\n",
    "print(t)\n",
    "#Get item from tuple\n",
    "i1=t[3]\n",
    "print(i1)\n",
    "i2=t[-4]\n",
    "print(i2)\n"
   ]
  },
  {
   "cell_type": "markdown",
   "metadata": {},
   "source": [
    "# Program 5"
   ]
  },
  {
   "cell_type": "code",
   "execution_count": 5,
   "metadata": {},
   "outputs": [],
   "source": [
    "lst=[2, 3, 4]\n",
    "lst.extend([5, 6])\n",
    "lst=[2, 3, 4, 5, 6]\n",
    "lst2=lst.copy()\n",
    "lst2=[2, 3, 4, 5, 6]\n",
    "lst.clear()"
   ]
  },
  {
   "cell_type": "markdown",
   "metadata": {},
   "source": [
    "# Task 1"
   ]
  },
  {
   "cell_type": "code",
   "execution_count": 6,
   "metadata": {},
   "outputs": [
    {
     "name": "stdout",
     "output_type": "stream",
     "text": [
      "No. of Days=  16\n"
     ]
    }
   ],
   "source": [
    "from datetime import date\n",
    "d1=date(2019, 11, 5)\n",
    "d2=date(2019, 10, 20)\n",
    "nod=d1-d2\n",
    "print(\"No. of Days= \",nod.days)"
   ]
  },
  {
   "cell_type": "markdown",
   "metadata": {},
   "source": [
    "# Task 2"
   ]
  },
  {
   "cell_type": "code",
   "execution_count": 7,
   "metadata": {},
   "outputs": [
    {
     "name": "stdout",
     "output_type": "stream",
     "text": [
      "Frist Height is -0.10828906106660464\n",
      "Second Height is 0.0\n",
      "Third height is 0.3564256348786732\n",
      "Fourth Height is -0.41631910582025655\n"
     ]
    }
   ],
   "source": [
    "from math import sin\n",
    "from math import pi\n",
    "l=[16, 20, 24, 24]\n",
    "a=[75, 0, 45, 80]\n",
    "#Part A\n",
    "h1=l[0]*sin(a[0])\n",
    "r1=pi*(h1/180)\n",
    "print(\"Frist Height is\", r1 )\n",
    "#Part B\n",
    "h2=l[1]*sin(a[1])\n",
    "r2=pi*(h2/180)\n",
    "print(\"Second Height is\", r2)\n",
    "#Part C\n",
    "h3=l[2] *sin(a[2])\n",
    "r3=pi*(h3/180)\n",
    "print(\"Third height is\", r3)\n",
    "#Part D\n",
    "h4=l[3]*sin(a[3])\n",
    "r4=pi*(h4/180)\n",
    "print(\"Fourth Height is\", r4)"
   ]
  },
  {
   "cell_type": "markdown",
   "metadata": {},
   "source": [
    "# Task 3"
   ]
  },
  {
   "cell_type": "code",
   "execution_count": 8,
   "metadata": {},
   "outputs": [
    {
     "name": "stdout",
     "output_type": "stream",
     "text": [
      "3\n",
      "3.0\n",
      "[5, 4, 3, 2, 1]\n",
      "[5, 4, 3, 2]\n",
      "[5, 4, 3, 2, 1]\n"
     ]
    }
   ],
   "source": [
    "#3(a)\n",
    "a=[1,2,3,4,5]\n",
    "b=a[2]\n",
    "print(b)\n",
    "#3(b)\n",
    "c=len(a)\n",
    "mt=sum(a)/c\n",
    "print(mt)\n",
    "#3(c)\n",
    "a.reverse()\n",
    "print(a)\n",
    "#3(d)\n",
    "a.remove(1)\n",
    "print(a)\n",
    "a.append(1)\n",
    "print(a)"
   ]
  },
  {
   "cell_type": "markdown",
   "metadata": {},
   "source": [
    "# Task 4"
   ]
  },
  {
   "cell_type": "code",
   "execution_count": 9,
   "metadata": {},
   "outputs": [
    {
     "name": "stdout",
     "output_type": "stream",
     "text": [
      "['Jan', 'Feb', 'Mar', 'Apr', 'May']\n",
      "['Jan', 'Feb', 'Mar', 'Apr', 'May', 'Jun']\n",
      "['Jan', 'Feb', 'Mar', 'Apr', 'May']\n",
      "['Jan', 'Feb', 'Apr', 'May']\n",
      "['May', 'Apr', 'Feb', 'Jan']\n",
      "['Apr', 'Feb', 'Jan', 'May']\n"
     ]
    }
   ],
   "source": [
    "monthsL=['Jan','Feb','Mar','May']\n",
    "monthsT=('Jan','Feb','Mar','May')\n",
    "#4(a)\n",
    "a=monthsL.insert(3,'Apr')\n",
    "print(monthsL)\n",
    "#Tuple is immutable \n",
    "#4(b)\n",
    "monthsL.append('Jun')\n",
    "print(monthsL)\n",
    "#4(c)\n",
    "monthsL.pop()\n",
    "print(monthsL)\n",
    "#4(d)\n",
    "monthsL.remove(monthsL[2])\n",
    "print(monthsL)\n",
    "#4(e)\n",
    "monthsL.reverse()\n",
    "print(monthsL)\n",
    "#4(f)\n",
    "monthsL.sort()\n",
    "print(monthsL)"
   ]
  },
  {
   "cell_type": "markdown",
   "metadata": {},
   "source": [
    "# Task 5"
   ]
  },
  {
   "cell_type": "code",
   "execution_count": 10,
   "metadata": {},
   "outputs": [
    {
     "name": "stdout",
     "output_type": "stream",
     "text": [
      "Number of characters in Anachronistically is 5 more than counterintuitive\n"
     ]
    }
   ],
   "source": [
    "#5(a)\n",
    "a=set('anachronistically')\n",
    "b=set('counterintuitive')\n",
    "print(\"Number of characters in Anachronistically is\",len(a-b),\"more than counterintuitive\")\n"
   ]
  },
  {
   "cell_type": "code",
   "execution_count": 12,
   "metadata": {},
   "outputs": [
    {
     "name": "stdout",
     "output_type": "stream",
     "text": [
      "['misinterpretation', 'misrepresentation']\n"
     ]
    }
   ],
   "source": [
    "#5(b)\n",
    "a=['misinterpretation', 'misrepresentation']\n",
    "a.sort()\n",
    "print(dic)"
   ]
  },
  {
   "cell_type": "code",
   "execution_count": 13,
   "metadata": {},
   "outputs": [
    {
     "name": "stdout",
     "output_type": "stream",
     "text": [
      "There isn't any 'e' here\n"
     ]
    }
   ],
   "source": [
    "#5(c)\n",
    "a=('floccinaucinihilipilification')\n",
    "if 'e' in a:\n",
    "    print(\"There is an 'e' here\")\n",
    "else:\n",
    "    print(\"There isn't any 'e' here\")"
   ]
  },
  {
   "cell_type": "code",
   "execution_count": 15,
   "metadata": {},
   "outputs": [
    {
     "name": "stdout",
     "output_type": "stream",
     "text": [
      "Its equal\n"
     ]
    }
   ],
   "source": [
    "#5(d)\n",
    "a=('counterrevolution')\n",
    "b=('counter')\n",
    "c=('resolution')\n",
    "if len(a)==len(b)+len(c):\n",
    "    print(\"Its equal\")\n",
    "else:\n",
    "    print(\"Its not equal\")"
   ]
  },
  {
   "cell_type": "markdown",
   "metadata": {},
   "source": [
    "# Task 6"
   ]
  },
  {
   "cell_type": "code",
   "execution_count": 24,
   "metadata": {},
   "outputs": [
    {
     "name": "stdout",
     "output_type": "stream",
     "text": [
      "6.5\n",
      "John Fitzgerald Kennedy \n"
     ]
    }
   ],
   "source": [
    "#6(a)\n",
    "a=6\n",
    "b=7\n",
    "c=(a+b)/2\n",
    "print(c)\n",
    "#6(b)\n",
    "inventory=['Paper','Staples','Pencils']\n",
    "#6(c)\n",
    "first=('John ')\n",
    "middle=('Fitzgerald ')\n",
    "last=('Kennedy ')\n",
    "fullname=first + middle + last\n",
    "print(fullname)"
   ]
  }
 ],
 "metadata": {
  "kernelspec": {
   "display_name": "Python 3",
   "language": "python",
   "name": "python3"
  },
  "language_info": {
   "codemirror_mode": {
    "name": "ipython",
    "version": 3
   },
   "file_extension": ".py",
   "mimetype": "text/x-python",
   "name": "python",
   "nbconvert_exporter": "python",
   "pygments_lexer": "ipython3",
   "version": "3.7.3"
  }
 },
 "nbformat": 4,
 "nbformat_minor": 2
}
