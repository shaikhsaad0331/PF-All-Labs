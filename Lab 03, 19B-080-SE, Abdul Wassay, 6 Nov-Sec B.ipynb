{
 "cells": [
  {
   "cell_type": "markdown",
   "metadata": {},
   "source": [
    "# Program 01"
   ]
  },
  {
   "cell_type": "code",
   "execution_count": 2,
   "metadata": {},
   "outputs": [
    {
     "name": "stdout",
     "output_type": "stream",
     "text": [
      "Sum is 32\n",
      "Differenceis  -12\n",
      "Product is 220\n",
      "Division is 0.45454545454545453\n",
      "Integer Division is 0\n",
      "Raised to the power is 10000000000000000000000\n",
      "Remainder is 10\n"
     ]
    }
   ],
   "source": [
    "#Maths Operators in Python\n",
    "a=10\n",
    "b=22\n",
    "#Sum Operator\n",
    "print(\"Sum is\",a+b)\n",
    "#Subtract Operator\n",
    "print(\"Difference is \", a-b)\n",
    "#Product Operator\n",
    "print(\"Product is\", a*b)\n",
    "#Division Operator \n",
    "print(\"Division is\",a/b)\n",
    "#Integer division operator\n",
    "print(\"Integer Division is\",a//b)\n",
    "#Power Operator\n",
    "print(\"Raised to the power is\",a**b)\n",
    "#Module operator\n",
    "print(\"Remainder is\",a%b)"
   ]
  },
  {
   "cell_type": "markdown",
   "metadata": {},
   "source": [
    "# Program 02"
   ]
  },
  {
   "cell_type": "code",
   "execution_count": 3,
   "metadata": {},
   "outputs": [
    {
     "name": "stdout",
     "output_type": "stream",
     "text": [
      "8\n"
     ]
    }
   ],
   "source": [
    "x=5\n",
    "x+=3\n",
    "print(x)"
   ]
  },
  {
   "cell_type": "code",
   "execution_count": 4,
   "metadata": {},
   "outputs": [
    {
     "name": "stdout",
     "output_type": "stream",
     "text": [
      "2\n"
     ]
    }
   ],
   "source": [
    "x=5\n",
    "x-=3\n",
    "print(x)"
   ]
  },
  {
   "cell_type": "code",
   "execution_count": 5,
   "metadata": {},
   "outputs": [
    {
     "name": "stdout",
     "output_type": "stream",
     "text": [
      "15\n"
     ]
    }
   ],
   "source": [
    "x=5\n",
    "x*=3\n",
    "print(x)"
   ]
  },
  {
   "cell_type": "code",
   "execution_count": 6,
   "metadata": {},
   "outputs": [
    {
     "name": "stdout",
     "output_type": "stream",
     "text": [
      "1.6666666666666667\n"
     ]
    }
   ],
   "source": [
    "x=5\n",
    "x/=3\n",
    "print(x)"
   ]
  },
  {
   "cell_type": "code",
   "execution_count": 7,
   "metadata": {},
   "outputs": [
    {
     "name": "stdout",
     "output_type": "stream",
     "text": [
      "2\n"
     ]
    }
   ],
   "source": [
    "x=5\n",
    "x%=3\n",
    "print(x)"
   ]
  },
  {
   "cell_type": "code",
   "execution_count": 8,
   "metadata": {},
   "outputs": [
    {
     "name": "stdout",
     "output_type": "stream",
     "text": [
      "1\n"
     ]
    }
   ],
   "source": [
    "x=5\n",
    "x//=3\n",
    "print(x)"
   ]
  },
  {
   "cell_type": "code",
   "execution_count": 9,
   "metadata": {},
   "outputs": [
    {
     "name": "stdout",
     "output_type": "stream",
     "text": [
      "125\n"
     ]
    }
   ],
   "source": [
    "x=5\n",
    "x**=3\n",
    "print(x)"
   ]
  },
  {
   "cell_type": "code",
   "execution_count": 10,
   "metadata": {},
   "outputs": [
    {
     "name": "stdout",
     "output_type": "stream",
     "text": [
      "1\n"
     ]
    }
   ],
   "source": [
    "x=5\n",
    "x&=3\n",
    "print(x)"
   ]
  },
  {
   "cell_type": "code",
   "execution_count": 11,
   "metadata": {},
   "outputs": [
    {
     "name": "stdout",
     "output_type": "stream",
     "text": [
      "7\n"
     ]
    }
   ],
   "source": [
    "x=5\n",
    "x|=3\n",
    "print(x)"
   ]
  },
  {
   "cell_type": "code",
   "execution_count": 12,
   "metadata": {},
   "outputs": [
    {
     "name": "stdout",
     "output_type": "stream",
     "text": [
      "6\n"
     ]
    }
   ],
   "source": [
    "x=5\n",
    "x^=3\n",
    "print(x)"
   ]
  },
  {
   "cell_type": "code",
   "execution_count": 14,
   "metadata": {},
   "outputs": [
    {
     "name": "stdout",
     "output_type": "stream",
     "text": [
      "0\n"
     ]
    }
   ],
   "source": [
    "x=5\n",
    "x>>=3\n",
    "print(x)"
   ]
  },
  {
   "cell_type": "code",
   "execution_count": 15,
   "metadata": {},
   "outputs": [
    {
     "name": "stdout",
     "output_type": "stream",
     "text": [
      "40\n"
     ]
    }
   ],
   "source": [
    "x=5\n",
    "x<<=3\n",
    "print(x)"
   ]
  },
  {
   "cell_type": "markdown",
   "metadata": {},
   "source": [
    "# Prgram 03"
   ]
  },
  {
   "cell_type": "code",
   "execution_count": 16,
   "metadata": {},
   "outputs": [
    {
     "name": "stdout",
     "output_type": "stream",
     "text": [
      "X is equal to Y: False\n",
      "X is not equal to Y: True\n",
      "X is greater than Y: True\n",
      "X is less than Y: False\n",
      "X is less than or equal to Y: False\n",
      "X is greater than or qual to Y: True\n"
     ]
    }
   ],
   "source": [
    "#Comparision Operators\n",
    "x=20\n",
    "y=15\n",
    "print(\"X is equal to Y:\",x==y)\n",
    "print(\"X is not equal to Y:\",x!=y)\n",
    "print(\"X is greater than Y:\",x>y)\n",
    "print(\"X is less than Y:\",x<y)\n",
    "print(\"X is less than or equal to Y:\",x<=y)\n",
    "print(\"X is greater than or qual to Y:\",x>=y)"
   ]
  },
  {
   "cell_type": "markdown",
   "metadata": {},
   "source": [
    "# Program 04"
   ]
  },
  {
   "cell_type": "code",
   "execution_count": 17,
   "metadata": {},
   "outputs": [
    {
     "name": "stdout",
     "output_type": "stream",
     "text": [
      "True\n"
     ]
    }
   ],
   "source": [
    "#Logical Operators\n",
    "x=20\n",
    "print(x>13 and x<=20)"
   ]
  },
  {
   "cell_type": "code",
   "execution_count": 21,
   "metadata": {},
   "outputs": [
    {
     "name": "stdout",
     "output_type": "stream",
     "text": [
      "True\n"
     ]
    }
   ],
   "source": [
    "x=25\n",
    "print(x<10 or x>20)"
   ]
  },
  {
   "cell_type": "code",
   "execution_count": 25,
   "metadata": {},
   "outputs": [
    {
     "name": "stdout",
     "output_type": "stream",
     "text": [
      "False\n"
     ]
    }
   ],
   "source": [
    "x=50\n",
    "print(not(x<100 and x>20))"
   ]
  },
  {
   "cell_type": "markdown",
   "metadata": {},
   "source": [
    "# Program 05"
   ]
  },
  {
   "cell_type": "code",
   "execution_count": 30,
   "metadata": {},
   "outputs": [
    {
     "name": "stdout",
     "output_type": "stream",
     "text": [
      "False\n",
      "True\n",
      "True\n",
      "False\n",
      "True\n"
     ]
    }
   ],
   "source": [
    "#Identity Operators\n",
    "x=['Ahmed','Ali']\n",
    "y=['Ahmed','Ali']\n",
    "z=x\n",
    "print(x is y)\n",
    "print(x is z)\n",
    "print(x==y)\n",
    "print(y is z)\n",
    "print(z is x)"
   ]
  },
  {
   "cell_type": "markdown",
   "metadata": {},
   "source": [
    "# Program 06"
   ]
  },
  {
   "cell_type": "code",
   "execution_count": 39,
   "metadata": {},
   "outputs": [
    {
     "name": "stdout",
     "output_type": "stream",
     "text": [
      "True\n",
      "False\n",
      "True\n",
      "False\n",
      "True\n",
      "True\n",
      "False\n"
     ]
    }
   ],
   "source": [
    "#Not identity operators\n",
    "a=['Abid','Ahsan']\n",
    "b=['Abid','Ahsan']\n",
    "c=b\n",
    "print(c is not a)\n",
    "print(c is not b)\n",
    "print(b is not a)\n",
    "print(b is not c)\n",
    "print(a is not b)\n",
    "print(a is not c)\n",
    "print(b != c)"
   ]
  },
  {
   "cell_type": "markdown",
   "metadata": {},
   "source": [
    "# Program 07"
   ]
  },
  {
   "cell_type": "code",
   "execution_count": 44,
   "metadata": {},
   "outputs": [
    {
     "name": "stdout",
     "output_type": "stream",
     "text": [
      "True\n",
      "False\n",
      "True\n"
     ]
    }
   ],
   "source": [
    "#Membership Operators\n",
    "a=['Apple','Banana','Orange','Grapes']\n",
    "print('Banana' in a)\n",
    "print('Ali' in a)\n",
    "print('Orange' in a)"
   ]
  },
  {
   "cell_type": "markdown",
   "metadata": {},
   "source": [
    "# Program 08"
   ]
  },
  {
   "cell_type": "code",
   "execution_count": 47,
   "metadata": {},
   "outputs": [
    {
     "name": "stdout",
     "output_type": "stream",
     "text": [
      "True\n",
      "False\n",
      "True\n"
     ]
    }
   ],
   "source": [
    "#Membership Operators\n",
    "a=['Pencil','Sharpner','Book']\n",
    "print('Banana' not in a)\n",
    "print('Book' not in a)\n",
    "print('Ali' not in a)"
   ]
  },
  {
   "cell_type": "markdown",
   "metadata": {},
   "source": [
    "# Program 09"
   ]
  },
  {
   "cell_type": "code",
   "execution_count": 4,
   "metadata": {},
   "outputs": [
    {
     "name": "stdout",
     "output_type": "stream",
     "text": [
      "Enter a velocity to fire at (in m/s): 10\n",
      "Enter an angle to fire at(in degrees): 45\n",
      "How far away you are from the structure (in meters): 20\n",
      "Enter height of the structure (in meters): 30\n",
      "Final Velocity is: 27.020732780589057\n"
     ]
    }
   ],
   "source": [
    "import math\n",
    "#User inputs\n",
    "v=float(input(\"Enter a velocity to fire at (in m/s): \"))\n",
    "a=float(input(\"Enter an angle to fire at(in degrees): \"))\n",
    "d=float(input(\"How far away you are from the structure (in meters): \"))\n",
    "h=float(input(\"Enter height of the structure (in meters): \"))\n",
    "ss=10\n",
    "g=9.8\n",
    "ar=math.radians(a)\n",
    "x=math.cos(ar)\n",
    "y=math.sin(ar)\n",
    "t=d/(v*x)\n",
    "vx=x\n",
    "vy=y+(-9.8*t)\n",
    "fv=math.sqrt((vx**2)+(vy**2))\n",
    "print(\"Final Velocity is:\",fv,\"m/s\")"
   ]
  },
  {
   "cell_type": "markdown",
   "metadata": {},
   "source": [
    "# Exercise 01"
   ]
  },
  {
   "cell_type": "code",
   "execution_count": 1,
   "metadata": {},
   "outputs": [
    {
     "name": "stdout",
     "output_type": "stream",
     "text": [
      "Enter the radius of circle(in meters): 0.5\n",
      "Enter the angular velocity(in rad/s): 10\n",
      "Linear Velocity is: 5.0 m/s\n"
     ]
    }
   ],
   "source": [
    "import math\n",
    "#1(a)\n",
    "r=float(input(\"Enter the radius of circle(in meters): \"))\n",
    "w=float(input(\"Enter the angular velocity(in rad/s): \"))\n",
    "vr=r*w\n",
    "print(\"Linear Velocity is:\",vr,\"m/s\")"
   ]
  },
  {
   "cell_type": "code",
   "execution_count": 2,
   "metadata": {},
   "outputs": [
    {
     "name": "stdout",
     "output_type": "stream",
     "text": [
      "Enter the radius of circle(in meters): 1\n",
      "Enter the angular velocity(in rad/s): 10\n",
      "Linear Velocity is: 10.0 m/s\n"
     ]
    }
   ],
   "source": [
    "import math\n",
    "#1(b)\n",
    "r=float(input(\"Enter the radius of circle(in meters): \"))\n",
    "w=float(input(\"Enter the angular velocity(in rad/s): \"))\n",
    "vr=r*w\n",
    "print(\"Linear Velocity is:\",vr,\"m/s\")"
   ]
  },
  {
   "cell_type": "code",
   "execution_count": 3,
   "metadata": {},
   "outputs": [
    {
     "name": "stdout",
     "output_type": "stream",
     "text": [
      "Enter the radius of circle(in meters): 2\n",
      "Enter the angular velocity(in rad/s): 10\n",
      "Linear Velocity is: 20.0 m/s\n"
     ]
    }
   ],
   "source": [
    "import math\n",
    "#1(c)\n",
    "r=float(input(\"Enter the radius of circle(in meters): \"))\n",
    "w=float(input(\"Enter the angular velocity(in rad/s): \"))\n",
    "vr=r*w\n",
    "print(\"Linear Velocity is:\",vr,\"m/s\")"
   ]
  },
  {
   "cell_type": "markdown",
   "metadata": {},
   "source": [
    "# Exercise 02"
   ]
  },
  {
   "cell_type": "code",
   "execution_count": 2,
   "metadata": {},
   "outputs": [
    {
     "name": "stdout",
     "output_type": "stream",
     "text": [
      "Enter the radius of blades(in cm): 5\n",
      "Enter the revolutions of blades(in rad/s): 523.3\n",
      "Linear Velocity is: 26.165 m/s\n"
     ]
    }
   ],
   "source": [
    "import math\n",
    "#2(a)\n",
    "r=float(input(\"Enter the radius of blades(in cm): \"))\n",
    "w=float(input(\"Enter the revolutions of blades(in rad/s): \"))\n",
    "cr=r/100\n",
    "vr=cr*w\n",
    "print(\"Linear Velocity is:\",vr,\"m/s\")"
   ]
  },
  {
   "cell_type": "code",
   "execution_count": 3,
   "metadata": {},
   "outputs": [
    {
     "name": "stdout",
     "output_type": "stream",
     "text": [
      "Enter the radius of blades(in cm): 10\n",
      "Enter the revolutions of blades(in rad/s): 523.3\n",
      "Linear Velocity is: 52.33 m/s\n"
     ]
    }
   ],
   "source": [
    "import math\n",
    "#2(b)\n",
    "r=float(input(\"Enter the radius of blades(in cm): \"))\n",
    "w=float(input(\"Enter the revolutions of blades(in rad/s): \"))\n",
    "cr=r/100\n",
    "vr=cr*w\n",
    "print(\"Linear Velocity is:\",vr,\"m/s\")"
   ]
  },
  {
   "cell_type": "markdown",
   "metadata": {},
   "source": [
    "# Exercise 03"
   ]
  },
  {
   "cell_type": "code",
   "execution_count": 5,
   "metadata": {},
   "outputs": [
    {
     "name": "stdout",
     "output_type": "stream",
     "text": [
      "Enter the radius of the wheel(in cm): 30\n",
      "Enter the speed/velocity of wheel(in m/s): 10\n",
      "Angular Velocity is: 33.333333333333336 rad/s\n"
     ]
    }
   ],
   "source": [
    "import math\n",
    "r=float(input(\"Enter the radius of the wheel(in cm): \"))\n",
    "v=float(input(\"Enter the speed/velocity of wheel(in m/s): \"))\n",
    "cr=r/100\n",
    "w=v/cr\n",
    "print(\"Angular Velocity is:\",w,\"rad/s\")"
   ]
  },
  {
   "cell_type": "markdown",
   "metadata": {},
   "source": [
    "# Exercise 04"
   ]
  },
  {
   "cell_type": "code",
   "execution_count": 6,
   "metadata": {},
   "outputs": [
    {
     "name": "stdout",
     "output_type": "stream",
     "text": [
      "Enter the radius of the tires(in cm): 25\n",
      "Enter the speed/velocity of car(in m/s): 10\n",
      "Angular Velocity is: 40.0 rad/s\n"
     ]
    }
   ],
   "source": [
    "import math\n",
    "r=float(input(\"Enter the radius of the tires(in cm): \"))\n",
    "v=float(input(\"Enter the speed/velocity of car(in m/s): \"))\n",
    "cr=r/100\n",
    "w=v/cr\n",
    "print(\"Angular Velocity is:\",w,\"rad/s\")"
   ]
  },
  {
   "cell_type": "markdown",
   "metadata": {},
   "source": [
    "# Exercise 05"
   ]
  },
  {
   "cell_type": "code",
   "execution_count": 7,
   "metadata": {},
   "outputs": [
    {
     "name": "stdout",
     "output_type": "stream",
     "text": [
      "Enter the radius of the wheel(in cm): 20\n",
      "Enter the angular velocity of wheel(in rad/s): 12.56\n",
      "Enter the travel time of car: 10\n",
      "Distance travelled by car is: 25.120000000000005 m\n"
     ]
    }
   ],
   "source": [
    "import math\n",
    "r=float(input(\"Enter the radius of the wheel(in cm): \"))\n",
    "w=float(input(\"Enter the angular velocity of wheel(in rad/s): \"))\n",
    "t=float(input(\"Enter the travel time of car(in seconds): \"))\n",
    "cr=r/100\n",
    "v=cr*w\n",
    "s=v*t\n",
    "print(\"Distance travelled by car is:\",s,\"m\")"
   ]
  },
  {
   "cell_type": "markdown",
   "metadata": {},
   "source": [
    "# Exercise 06"
   ]
  },
  {
   "cell_type": "code",
   "execution_count": 1,
   "metadata": {},
   "outputs": [
    {
     "name": "stdout",
     "output_type": "stream",
     "text": [
      "Enter the velocity of car(in miles/hr): 50\n",
      "Enter the acceleration of car(in miles/hr^2): 10\n",
      "Enter the time travel of car(in hrs): 2\n",
      "The distance covered by car is: 30.0 miles\n"
     ]
    }
   ],
   "source": [
    "v=float(input(\"Enter the velocity of car(in miles/hr): \"))\n",
    "a=float(input(\"Enter the acceleration of car(in miles/hr^2): \"))\n",
    "t=float(input(\"Enter the time travel of car(in hrs): \"))\n",
    "s=v-(a*t)\n",
    "print(\"The distance covered by car is:\",s,\"miles\")"
   ]
  },
  {
   "cell_type": "markdown",
   "metadata": {},
   "source": [
    "# Exercise 07"
   ]
  },
  {
   "cell_type": "code",
   "execution_count": 4,
   "metadata": {
    "scrolled": true
   },
   "outputs": [
    {
     "name": "stdout",
     "output_type": "stream",
     "text": [
      "Enter the height(in feets)100\n",
      "Enter the acceleration due to gravity(in ft/s^2)32\n",
      "Enter the initial velocity: 0\n",
      "Stone will hit ground with: 80.0 ft/s^2\n"
     ]
    }
   ],
   "source": [
    "h=float(input(\"Enter the height(in feets)\"))\n",
    "g=float(input(\"Enter the acceleration due to gravity(in ft/s^2)\"))\n",
    "vi=float(input(\"Enter the initial velocity: \"))\n",
    "import math\n",
    "vf=(math.sqrt(2*g*h)+vi)\n",
    "print(\"Stone will hit ground with:\",vf,\"ft/s^2\")"
   ]
  },
  {
   "cell_type": "markdown",
   "metadata": {},
   "source": [
    "# The End"
   ]
  }
 ],
 "metadata": {
  "kernelspec": {
   "display_name": "Python 3",
   "language": "python",
   "name": "python3"
  },
  "language_info": {
   "codemirror_mode": {
    "name": "ipython",
    "version": 3
   },
   "file_extension": ".py",
   "mimetype": "text/x-python",
   "name": "python",
   "nbconvert_exporter": "python",
   "pygments_lexer": "ipython3",
   "version": "3.7.3"
  }
 },
 "nbformat": 4,
 "nbformat_minor": 2
}
