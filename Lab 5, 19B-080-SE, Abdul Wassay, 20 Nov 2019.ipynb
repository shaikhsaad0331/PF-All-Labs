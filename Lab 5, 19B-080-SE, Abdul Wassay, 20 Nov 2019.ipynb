{
 "cells": [
  {
   "cell_type": "markdown",
   "metadata": {},
   "source": [
    "# Abdul Wassay, 19B-080-SE\n",
    "# Section B"
   ]
  },
  {
   "cell_type": "markdown",
   "metadata": {},
   "source": [
    "# Problem 01"
   ]
  },
  {
   "cell_type": "code",
   "execution_count": 2,
   "metadata": {},
   "outputs": [
    {
     "name": "stdout",
     "output_type": "stream",
     "text": [
      "the volume of the cylinder is 904.896 cm³\n",
      "the area of the cylinder is 301.632 cm²\n"
     ]
    }
   ],
   "source": [
    "def cylinder_volume(pi,r,h):\n",
    "    cylindervolume=pi*(r**2)*h\n",
    "    print(\"the volume of the cylinder is {:.3f} cm\\u00b3\".format(cylindervolume))\n",
    "cylinder_volume(3.142,6,8)\n",
    "\n",
    "def cylinder_area(pi,r,h):\n",
    "    cylinderarea=(2*pi*r*h)+(2*pi*(r**2))\n",
    "    print(\"the area of the cylinder is {:.3f} cm\\u00b2\".format(cylinderarea))\n",
    "cylinder_area(3.142,4,8)\n"
   ]
  },
  {
   "cell_type": "markdown",
   "metadata": {},
   "source": [
    "# Problem 02"
   ]
  },
  {
   "cell_type": "code",
   "execution_count": 4,
   "metadata": {},
   "outputs": [
    {
     "name": "stdout",
     "output_type": "stream",
     "text": [
      "the volume of the rectangle is 192.000cm³\n",
      "the area of the rectangle is 80.000cm²\n"
     ]
    }
   ],
   "source": [
    "def rectangle_volume(length, width, height):\n",
    "    rectanglevolume=(length*width*height)\n",
    "    print(\"the volume of the rectangle is {:.3f}cm\\u00b3\".format(rectanglevolume))\n",
    "rectangle_volume(4,6,8)\n",
    "\n",
    "def rectangle_area(length,width):\n",
    "    decimal=3\n",
    "    rectanglearea=(length*width)\n",
    "    print(\"the area of the rectangle is {:.3f}cm\\u00b2\".format(rectanglearea,decimal))\n",
    "rectangle_area(8,10)\n",
    "          "
   ]
  },
  {
   "cell_type": "markdown",
   "metadata": {},
   "source": [
    "# Problem 03"
   ]
  },
  {
   "cell_type": "code",
   "execution_count": 5,
   "metadata": {},
   "outputs": [],
   "source": [
    "def last_term():\n",
    "    first_term=eval(input(\"enter the first term:\"))\n",
    "    common_difference=eval(input(\"enter the common difference:\"))\n",
    "    n=11\n",
    "    v=(n-1)*common_difference\n",
    "    last_term=(first_term+v)\n",
    "    print('last term is:' , last_term)"
   ]
  },
  {
   "cell_type": "markdown",
   "metadata": {},
   "source": [
    "# Problem 04"
   ]
  },
  {
   "cell_type": "code",
   "execution_count": 6,
   "metadata": {},
   "outputs": [
    {
     "name": "stdout",
     "output_type": "stream",
     "text": [
      "\n",
      "Enter word to check if it's palindrome or not: civic\n",
      "\n",
      "This string is palindrome\n"
     ]
    }
   ],
   "source": [
    "def palindrome_check(name):\n",
    "    my_string=name\n",
    "    my_string=my_string.casefold()\n",
    "    rev_string=reversed(my_string)\n",
    "    if list(my_string)==list(rev_string):\n",
    "        print(\"\\nThis string is palindrome\")\n",
    "    else:\n",
    "        print(\"\\nSorry\")\n",
    "name = str(input(\"\\nEnter word to check if it's palindrome or not: \"))\n",
    "palindrome_check(name)"
   ]
  },
  {
   "cell_type": "markdown",
   "metadata": {},
   "source": [
    "# Problem 05"
   ]
  },
  {
   "cell_type": "code",
   "execution_count": null,
   "metadata": {},
   "outputs": [
    {
     "name": "stdout",
     "output_type": "stream",
     "text": [
      "Enter your name:Abdul Wassay\n",
      "Enter your father name:Sardar Ahmed\n",
      "Enter your roll no:14150\n",
      "enter subjects marks:453\n",
      "grade:A++\n"
     ]
    }
   ],
   "source": [
    "name=input(\"Enter your name:\")\n",
    "father_name=input(\"Enter your father name:\")\n",
    "roll_no=str(input(\"Enter your roll no:\"))\n",
    "subjects=[1,2,3,4,5]\n",
    "for y in subjects:\n",
    "    if y<=5:\n",
    "        y=y+1\n",
    "        subject_number=eval(input(\"enter subjects marks:\"))\n",
    "        total_marks=500\n",
    "        marks=subject_number+subject_number+subject_number+subject_number+subject_number\n",
    "        per=(marks/total_marks)*100\n",
    "        if (per>=90):\n",
    "            print(\"grade:A++\")\n",
    "        elif (90>per>=80):\n",
    "            print(\"grade:A+\")\n",
    "        elif (80>per>=70):\n",
    "            print (\"grade:A\")\n",
    "        elif (70>per>=60):\n",
    "            print (\"grade:B\")\n",
    "        elif (60>per>=50):\n",
    "            print (\"fail\")\n",
    "print(\"per:\",per)"
   ]
  },
  {
   "cell_type": "markdown",
   "metadata": {},
   "source": [
    "# Problem 06"
   ]
  },
  {
   "cell_type": "code",
   "execution_count": 13,
   "metadata": {},
   "outputs": [
    {
     "name": "stdout",
     "output_type": "stream",
     "text": [
      "no formula for 1st law of motion\n"
     ]
    }
   ],
   "source": [
    "#(a)\n",
    "def first_law_of_motion():\n",
    "    print(\"no formula for 1st law of motion\")\n",
    "first_law_of_motion()"
   ]
  },
  {
   "cell_type": "code",
   "execution_count": 12,
   "metadata": {},
   "outputs": [
    {
     "data": {
      "text/plain": [
       "500"
      ]
     },
     "execution_count": 12,
     "metadata": {},
     "output_type": "execute_result"
    }
   ],
   "source": [
    "#(b)\n",
    "def second_law_of_motion(mass,acceleration):\n",
    "    force=(mass*acceleration)\n",
    "    return force\n",
    "second_law_of_motion(10,50)"
   ]
  },
  {
   "cell_type": "code",
   "execution_count": 10,
   "metadata": {},
   "outputs": [
    {
     "data": {
      "text/plain": [
       "-10"
      ]
     },
     "execution_count": 10,
     "metadata": {},
     "output_type": "execute_result"
    }
   ],
   "source": [
    "#(c)\n",
    "def third_law_of_motion(f):\n",
    "    f=-f\n",
    "    return f\n",
    "third_law_of_motion(10)"
   ]
  },
  {
   "cell_type": "markdown",
   "metadata": {},
   "source": [
    "# Problem 07"
   ]
  },
  {
   "cell_type": "code",
   "execution_count": 8,
   "metadata": {},
   "outputs": [
    {
     "data": {
      "text/plain": [
       "8.68268902585835"
      ]
     },
     "execution_count": 8,
     "metadata": {},
     "output_type": "execute_result"
    }
   ],
   "source": [
    "#(a)\n",
    "#for total time of projectile\n",
    "import math\n",
    "def total_time(velocity, angle, gravity):\n",
    "    total_time=2*velocity*(math.sin(angle))/gravity\n",
    "    return total_time\n",
    "total_time(50,45,9.8) "
   ]
  },
  {
   "cell_type": "code",
   "execution_count": 5,
   "metadata": {},
   "outputs": [
    {
     "data": {
      "text/plain": [
       "6.8752054630347015"
      ]
     },
     "execution_count": 5,
     "metadata": {},
     "output_type": "execute_result"
    }
   ],
   "source": [
    "#(b)\n",
    "# for maximum height of the projectile\n",
    "import math\n",
    "def max_height(velocity,angle,gravity):\n",
    "    height=(velocity**2)*(math.sin(angle)**2)/(2*gravity)\n",
    "    return height\n",
    "max_height(15,70,9.8)"
   ]
  },
  {
   "cell_type": "code",
   "execution_count": 10,
   "metadata": {},
   "outputs": [
    {
     "data": {
      "text/plain": [
       "31.587374757464858"
      ]
     },
     "execution_count": 10,
     "metadata": {},
     "output_type": "execute_result"
    }
   ],
   "source": [
    "#(c)\n",
    "#For range of projectile\n",
    "def Range(velocity,angle,gravity):\n",
    "    import math\n",
    "    Range=(velocity**2)*(math.sin(2*angle))/gravity\n",
    "    return Range\n",
    "Range(20,35,9.8)"
   ]
  },
  {
   "cell_type": "markdown",
   "metadata": {},
   "source": [
    "# Problem 08"
   ]
  },
  {
   "cell_type": "code",
   "execution_count": 8,
   "metadata": {},
   "outputs": [
    {
     "data": {
      "text/plain": [
       "'yassaW'"
      ]
     },
     "execution_count": 8,
     "metadata": {},
     "output_type": "execute_result"
    }
   ],
   "source": [
    "def reverse_name(name):\n",
    "    reverse_name=name[::-1]\n",
    "    return reverse_name\n",
    "reverse_name(\"Wassay\")"
   ]
  },
  {
   "cell_type": "markdown",
   "metadata": {},
   "source": [
    "# Problem 09"
   ]
  },
  {
   "cell_type": "code",
   "execution_count": 7,
   "metadata": {},
   "outputs": [
    {
     "data": {
      "text/plain": [
       "['z', 'd', 'v', 'v', 'd', 'b']"
      ]
     },
     "execution_count": 7,
     "metadata": {},
     "output_type": "execute_result"
    }
   ],
   "source": [
    "def encrypt(realtext,step):\n",
    "    outText=[]\n",
    "    cryptText=[]\n",
    "    \n",
    "    uppercase=['A','B','C','D','E','F','G','H','I','J','K','L','M','N','O','P','Q','R','S','T','U','V','W','X','Y','Z']\n",
    "    lowercase=['a','b','c','d','e','f','g','h','i','j','k','l','m','n','o','p','q','r','s','t','u','v','w','x','y','z']\n",
    "    \n",
    "    for eachletter in realtext:\n",
    "        if eachletter in uppercase:\n",
    "            index=uppercase.index(eachletter)\n",
    "            crypting=(index+step)%26\n",
    "            cryptText.append(crypting)\n",
    "            newletter=uppercase[crypting]\n",
    "            outText.append(newletter)\n",
    "        elif eachletter in lowercase:\n",
    "            index=lowercase.index(eachletter)\n",
    "            crypting=(index+step)%26\n",
    "            cryptText.append(crypting)\n",
    "            newletter=lowercase[crypting]\n",
    "            outText.append(newletter)\n",
    "    return outText    \n",
    "\n",
    "\n",
    "encrypt(\"wassay\",3)"
   ]
  },
  {
   "cell_type": "markdown",
   "metadata": {},
   "source": [
    "# Problem 10"
   ]
  },
  {
   "cell_type": "code",
   "execution_count": null,
   "metadata": {},
   "outputs": [],
   "source": [
    "import math\n",
    "def sin(x):\n",
    "    s=math.sin(x)\n",
    "    print(\"sin(90)is =\" ,s)\n",
    "sin(90)\n",
    "\n",
    "def cos(x):\n",
    "    c=math.cos(x)\n",
    "    print (\"cos(60) is =\" ,c)\n",
    "cos(60)\n",
    "\n",
    "def tan(x):\n",
    "    t=math.tan(x)\n",
    "    print(\"tan(70) is =\" ,t)\n",
    "tan(70)"
   ]
  },
  {
   "cell_type": "markdown",
   "metadata": {},
   "source": [
    "# Problem 11"
   ]
  },
  {
   "cell_type": "code",
   "execution_count": null,
   "metadata": {},
   "outputs": [],
   "source": [
    "import math\n",
    "d=eval(input(\"enter the diameter in cm:\"))\n",
    "r=d/2\n",
    "R=r/2\n",
    "p=r*(2+math.pi)\n",
    "P=R*(2+math.pi)\n",
    "peri=p+P+P\n",
    "print (\"the perimeter of semi circle including 2 semi circle is : \" ,peri,\"cm^2\")\n",
    "print (\"the perimeter of semi circle excluding 2 semi circle is : \" ,p,\"cm^2\")\n",
    "\n",
    "a=(math.pi*r*r)/2\n",
    "A=(math.pi*R*R)/2\n",
    "area=a+A+A\n",
    "\n",
    "print (\"the perimeter of semi circle including 2 semi circle is : \" ,area,\"cm^2\")\n",
    "print (\"the perimeter of semi circle including 2 semi circle is : \" ,a,\"cm^2\")"
   ]
  },
  {
   "cell_type": "markdown",
   "metadata": {},
   "source": [
    "# The End"
   ]
  }
 ],
 "metadata": {
  "kernelspec": {
   "display_name": "Python 3",
   "language": "python",
   "name": "python3"
  },
  "language_info": {
   "codemirror_mode": {
    "name": "ipython",
    "version": 3
   },
   "file_extension": ".py",
   "mimetype": "text/x-python",
   "name": "python",
   "nbconvert_exporter": "python",
   "pygments_lexer": "ipython3",
   "version": "3.7.3"
  }
 },
 "nbformat": 4,
 "nbformat_minor": 2
}
