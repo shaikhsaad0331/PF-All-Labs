{
 "cells": [
  {
   "cell_type": "markdown",
   "metadata": {},
   "source": [
    "# Abdul Wassay, 19B-080-SE\n",
    "# Sec B, 13 Nov 2019"
   ]
  },
  {
   "cell_type": "markdown",
   "metadata": {},
   "source": [
    "# Prgram 01"
   ]
  },
  {
   "cell_type": "code",
   "execution_count": 4,
   "metadata": {},
   "outputs": [
    {
     "name": "stdout",
     "output_type": "stream",
     "text": [
      "Value of a is less than b\n",
      "Value of a is not equal to b\n",
      "Value of a is less than and equal to b\n"
     ]
    }
   ],
   "source": [
    "a=400\n",
    "b=500\n",
    "if a==b:\n",
    "    print('Value of a is equal to b')\n",
    "if a>b:\n",
    "    print('Value of a is greater than b')\n",
    "if a<b:\n",
    "    print('Value of a is less than b')\n",
    "if a!=b:\n",
    "    print('Value of a is not equal to b')\n",
    "if a>=b:\n",
    "    print('Value of a is greater than and equal to b')\n",
    "if a<=b:\n",
    "    print('Value of a is less than and equal to b')"
   ]
  },
  {
   "cell_type": "code",
   "execution_count": 5,
   "metadata": {},
   "outputs": [
    {
     "name": "stdout",
     "output_type": "stream",
     "text": [
      "Value of a is greater than b\n",
      "Value of a is not equal to b\n",
      "Value of a is greater than and equal to b\n"
     ]
    }
   ],
   "source": [
    "a=500\n",
    "b=400\n",
    "if a==b:\n",
    "    print('Value of a is equal to b')\n",
    "if a>b:\n",
    "    print('Value of a is greater than b')\n",
    "if a<b:\n",
    "    print('Value of a is less than b')\n",
    "if a!=b:\n",
    "    print('Value of a is not equal to b')\n",
    "if a>=b:\n",
    "    print('Value of a is greater than and equal to b')\n",
    "if a<=b:\n",
    "    print('Value of a is less than and equal to b')"
   ]
  },
  {
   "cell_type": "markdown",
   "metadata": {},
   "source": [
    "# Program 02"
   ]
  },
  {
   "cell_type": "code",
   "execution_count": 6,
   "metadata": {},
   "outputs": [
    {
     "name": "stdout",
     "output_type": "stream",
     "text": [
      "Both conditions are true\n"
     ]
    }
   ],
   "source": [
    "a=10\n",
    "b=5\n",
    "c=20\n",
    "if a>b and c>a:\n",
    "    print('Both conditions are true')"
   ]
  },
  {
   "cell_type": "markdown",
   "metadata": {},
   "source": [
    "# Program 03"
   ]
  },
  {
   "cell_type": "code",
   "execution_count": 7,
   "metadata": {},
   "outputs": [
    {
     "name": "stdout",
     "output_type": "stream",
     "text": [
      "Atleast of the conditions are true\n"
     ]
    }
   ],
   "source": [
    "a=105\n",
    "b=50\n",
    "c=200\n",
    "if a>b or a>c:\n",
    "    print('Atleast of the conditions are true')"
   ]
  },
  {
   "cell_type": "markdown",
   "metadata": {},
   "source": [
    "# Program 04"
   ]
  },
  {
   "cell_type": "code",
   "execution_count": 8,
   "metadata": {},
   "outputs": [
    {
     "name": "stdout",
     "output_type": "stream",
     "text": [
      "Enter the lower limit range: 18\n",
      "Enter the upper limit range: 19\n",
      "Prime numbers between 18 and 19 are:\n",
      "19\n"
     ]
    }
   ],
   "source": [
    "ll=int(input('Enter the lower limit range: '))\n",
    "ul=int(input('Enter the upper limit range: '))\n",
    "print('Prime numbers between',ll,'and',ul,'are:')\n",
    "for number in range(ll,ul+1):\n",
    "    if number>1:\n",
    "        for i in range(2,number):\n",
    "            if(number%i)==0:\n",
    "                break\n",
    "        else:\n",
    "            print(number)"
   ]
  },
  {
   "cell_type": "markdown",
   "metadata": {},
   "source": [
    "# Program 05"
   ]
  },
  {
   "cell_type": "code",
   "execution_count": 9,
   "metadata": {},
   "outputs": [
    {
     "name": "stdout",
     "output_type": "stream",
     "text": [
      "Enter the intial value: 1\n",
      "Enter the final value: 10\n",
      "The sum is 45\n"
     ]
    }
   ],
   "source": [
    "iv=eval(input('Enter the intial value: '))\n",
    "fv=eval(input('Enter the final value: '))\n",
    "n=range(iv,fv)\n",
    "sum=0\n",
    "for a in n:\n",
    "    sum=sum+a\n",
    "print('The sum is',sum)"
   ]
  },
  {
   "cell_type": "markdown",
   "metadata": {},
   "source": [
    "# Program 06"
   ]
  },
  {
   "cell_type": "code",
   "execution_count": 10,
   "metadata": {},
   "outputs": [
    {
     "name": "stdout",
     "output_type": "stream",
     "text": [
      "Input number of rows: 4\n",
      "Input number of coloumns: 6\n",
      "[[0, 0, 0, 0, 0, 0], [0, 1, 2, 3, 4, 5], [0, 2, 4, 6, 8, 10], [0, 3, 6, 9, 12, 15]]\n"
     ]
    }
   ],
   "source": [
    "rn=int(input('Input number of rows: '))\n",
    "cn=int(input('Input number of coloumns: '))\n",
    "ml=[[0 for col in range(cn)]for row in range(rn)]\n",
    "for row in range(rn):\n",
    "    for col in range(cn):\n",
    "        ml[row][col]=row*col\n",
    "print(ml)"
   ]
  },
  {
   "cell_type": "markdown",
   "metadata": {},
   "source": [
    "# Program 07"
   ]
  },
  {
   "cell_type": "code",
   "execution_count": 11,
   "metadata": {},
   "outputs": [
    {
     "name": "stdout",
     "output_type": "stream",
     "text": [
      "Type of 300 is <class 'int'>\n",
      "Type of 12.65 is <class 'float'>\n",
      "Type of (5+6j) is <class 'complex'>\n",
      "Type of True is <class 'bool'>\n",
      "Type of Wassay is <class 'str'>\n",
      "Type of (5, -7) is <class 'tuple'>\n",
      "Type of [8, 52] is <class 'list'>\n",
      "Type of {'color': 'blue', 'Color': 'red'} is <class 'dict'>\n"
     ]
    }
   ],
   "source": [
    "data=[300,12.65,5+6j,True,'Wassay',(5,-7),[8,52],{\"color\":'blue',\"Color\":'red'}]\n",
    "for items in data:\n",
    "    print('Type of',items,'is',type(items))"
   ]
  },
  {
   "cell_type": "markdown",
   "metadata": {},
   "source": [
    "# Program 08"
   ]
  },
  {
   "cell_type": "code",
   "execution_count": 12,
   "metadata": {},
   "outputs": [
    {
     "name": "stdout",
     "output_type": "stream",
     "text": [
      "\t\t ASCII Character\n",
      "0 = \u0000\t1 = \u0001\t2 = \u0002\t3 = \u0003\t4 = \u0004\t5 = \u0005\t6 = \u0006\t7 = \u0007\t8 = \b\t9 = \t\t10 = \n",
      "\t11 = \u000b",
      "\t12 = \f",
      "\t13 = \r",
      "\t14 = \u000e\t15 = \u000f\t16 = \u0010\t17 = \u0011\t18 = \u0012\t19 = \u0013\t20 = \u0014\t21 = \u0015\t22 = \u0016\t23 = \u0017\t24 = \u0018\t25 = \u0019\t26 = \u001a\t27 = \u001b\t28 = \u001c",
      "\t29 = \u001d",
      "\t30 = \u001e",
      "\t31 = \u001f\t32 =  \t33 = !\t34 = \"\t35 = #\t36 = $\t37 = %\t38 = &\t39 = '\t40 = (\t41 = )\t42 = *\t43 = +\t44 = ,\t45 = -\t46 = .\t47 = /\t48 = 0\t49 = 1\t50 = 2\t51 = 3\t52 = 4\t53 = 5\t54 = 6\t55 = 7\t56 = 8\t57 = 9\t58 = :\t59 = ;\t60 = <\t61 = =\t62 = >\t63 = ?\t64 = @\t65 = A\t66 = B\t67 = C\t68 = D\t69 = E\t70 = F\t71 = G\t72 = H\t73 = I\t74 = J\t75 = K\t76 = L\t77 = M\t78 = N\t79 = O\t80 = P\t81 = Q\t82 = R\t83 = S\t84 = T\t85 = U\t86 = V\t87 = W\t88 = X\t89 = Y\t90 = Z\t91 = [\t92 = \\\t93 = ]\t94 = ^\t95 = _\t96 = `\t97 = a\t98 = b\t99 = c\t100 = d\t101 = e\t102 = f\t103 = g\t104 = h\t105 = i\t106 = j\t107 = k\t108 = l\t109 = m\t110 = n\t111 = o\t112 = p\t113 = q\t114 = r\t115 = s\t116 = t\t117 = u\t118 = v\t119 = w\t120 = x\t121 = y\t122 = z\t123 = {\t124 = |\t125 = }\t126 = ~\t127 = \t128 = \t129 = \t130 = \t131 = \t132 = \t133 = ",
      "\t134 = \t135 = \t136 = \t137 = \t138 = \t139 = \t140 = \t141 = \t142 = \t143 = \t144 = \t145 = \t146 = \t147 = \t148 = \t149 = \t150 = \t151 = \t152 = \t153 = \t154 = \t155 = \t156 = \t157 = \t158 = \t159 = \t160 =  \t161 = ¡\t162 = ¢\t163 = £\t164 = ¤\t165 = ¥\t166 = ¦\t167 = §\t168 = ¨\t169 = ©\t170 = ª\t171 = «\t172 = ¬\t173 = ­\t174 = ®\t175 = ¯\t176 = °\t177 = ±\t178 = ²\t179 = ³\t180 = ´\t181 = µ\t182 = ¶\t183 = ·\t184 = ¸\t185 = ¹\t186 = º\t187 = »\t188 = ¼\t189 = ½\t190 = ¾\t191 = ¿\t192 = À\t193 = Á\t194 = Â\t195 = Ã\t196 = Ä\t197 = Å\t198 = Æ\t199 = Ç\t200 = È\t201 = É\t202 = Ê\t203 = Ë\t204 = Ì\t205 = Í\t206 = Î\t207 = Ï\t208 = Ð\t209 = Ñ\t210 = Ò\t211 = Ó\t212 = Ô\t213 = Õ\t214 = Ö\t215 = ×\t216 = Ø\t217 = Ù\t218 = Ú\t219 = Û\t220 = Ü\t221 = Ý\t222 = Þ\t223 = ß\t224 = à\t225 = á\t226 = â\t227 = ã\t228 = ä\t229 = å\t230 = æ\t231 = ç\t232 = è\t233 = é\t234 = ê\t235 = ë\t236 = ì\t237 = í\t238 = î\t239 = ï\t240 = ð\t241 = ñ\t242 = ò\t243 = ó\t244 = ô\t245 = õ\t246 = ö\t247 = ÷\t248 = ø\t249 = ù\t250 = ú\t251 = û\t252 = ü\t253 = ý\t254 = þ\t255 = ÿ\t\n",
      "\n"
     ]
    }
   ],
   "source": [
    "print('\\t\\t ASCII Character')\n",
    "for i in range(0,256):\n",
    "    print(i,'=',chr(i),end ='\\t')\n",
    "print('\\n')"
   ]
  },
  {
   "cell_type": "markdown",
   "metadata": {},
   "source": [
    "# Program 09"
   ]
  },
  {
   "cell_type": "code",
   "execution_count": 13,
   "metadata": {},
   "outputs": [
    {
     "name": "stdout",
     "output_type": "stream",
     "text": [
      "Python program to convert decimal number into binary, octal, and hexadecimal number system.\n",
      "Decimal value is: 0 in binary it is: 0b0 in octal it is: 0o0 and in Hexadecial it is: 0x0\n",
      "Decimal value is: 1 in binary it is: 0b1 in octal it is: 0o1 and in Hexadecial it is: 0x1\n",
      "Decimal value is: 2 in binary it is: 0b10 in octal it is: 0o2 and in Hexadecial it is: 0x2\n",
      "Decimal value is: 3 in binary it is: 0b11 in octal it is: 0o3 and in Hexadecial it is: 0x3\n",
      "Decimal value is: 4 in binary it is: 0b100 in octal it is: 0o4 and in Hexadecial it is: 0x4\n",
      "Decimal value is: 5 in binary it is: 0b101 in octal it is: 0o5 and in Hexadecial it is: 0x5\n",
      "Decimal value is: 6 in binary it is: 0b110 in octal it is: 0o6 and in Hexadecial it is: 0x6\n",
      "Decimal value is: 7 in binary it is: 0b111 in octal it is: 0o7 and in Hexadecial it is: 0x7\n",
      "Decimal value is: 8 in binary it is: 0b1000 in octal it is: 0o10 and in Hexadecial it is: 0x8\n",
      "Decimal value is: 9 in binary it is: 0b1001 in octal it is: 0o11 and in Hexadecial it is: 0x9\n",
      "Decimal value is: 10 in binary it is: 0b1010 in octal it is: 0o12 and in Hexadecial it is: 0xa\n",
      "Decimal value is: 11 in binary it is: 0b1011 in octal it is: 0o13 and in Hexadecial it is: 0xb\n",
      "Decimal value is: 12 in binary it is: 0b1100 in octal it is: 0o14 and in Hexadecial it is: 0xc\n",
      "Decimal value is: 13 in binary it is: 0b1101 in octal it is: 0o15 and in Hexadecial it is: 0xd\n",
      "Decimal value is: 14 in binary it is: 0b1110 in octal it is: 0o16 and in Hexadecial it is: 0xe\n",
      "Decimal value is: 15 in binary it is: 0b1111 in octal it is: 0o17 and in Hexadecial it is: 0xf\n",
      "Decimal value is: 16 in binary it is: 0b10000 in octal it is: 0o20 and in Hexadecial it is: 0x10\n",
      "Thats the end of program with range from 1 to 16\n"
     ]
    }
   ],
   "source": [
    "print('Python program to convert decimal number into binary, octal, and hexadecimal number system.')\n",
    "for i in range(0,17):\n",
    "    print('Decimal value is:',i,'in binary it is:',bin(i),'in octal it is:',oct(i),'and in Hexadecial it is:',hex(i))\n",
    "print('Thats the end of program with range from 1 to 16')"
   ]
  },
  {
   "cell_type": "markdown",
   "metadata": {},
   "source": [
    "# Program 10"
   ]
  },
  {
   "cell_type": "code",
   "execution_count": 14,
   "metadata": {},
   "outputs": [
    {
     "name": "stdout",
     "output_type": "stream",
     "text": [
      "\n",
      "*\n",
      "**\n",
      "***\n",
      "****\n",
      "*****\n",
      "****\n",
      "***\n",
      "**\n",
      "*\n"
     ]
    }
   ],
   "source": [
    "n=5\n",
    "for i in range(n):\n",
    "    for j in range(i):\n",
    "        print('*',end='')\n",
    "    print('')\n",
    "for a in range(n,0,-1):\n",
    "    for b in range(a):\n",
    "        print('*',end='')\n",
    "    print('')"
   ]
  },
  {
   "cell_type": "markdown",
   "metadata": {},
   "source": [
    "# Program 11"
   ]
  },
  {
   "cell_type": "code",
   "execution_count": 15,
   "metadata": {},
   "outputs": [
    {
     "name": "stdout",
     "output_type": "stream",
     "text": [
      "Program to count vowels in given sentence\n",
      "Enter a sentence: I am Pakistani\n",
      "Number of vowels are:  6\n"
     ]
    }
   ],
   "source": [
    "print('Program to count vowels in given sentence')\n",
    "sen=input('Enter a sentence: ')\n",
    "v=0\n",
    "for x in sen:\n",
    "    if (x=='a' or x=='e' or x=='i' or x=='o' or x=='u' or x=='A' or x=='E' or x=='I' or x=='O' or x=='U'):\n",
    "        v=v+1\n",
    "print('Number of vowels are: ',v)"
   ]
  },
  {
   "cell_type": "markdown",
   "metadata": {},
   "source": [
    "# Exercises:"
   ]
  },
  {
   "cell_type": "markdown",
   "metadata": {},
   "source": [
    "# Exercise 01"
   ]
  },
  {
   "cell_type": "code",
   "execution_count": 6,
   "metadata": {},
   "outputs": [
    {
     "name": "stdout",
     "output_type": "stream",
     "text": [
      "Enter the value of a: 4\n",
      "Enter the value of b: 8\n",
      "Enter the value of c: 2\n",
      "-0.2928932188134524\n",
      "-1.7071067811865475\n"
     ]
    }
   ],
   "source": [
    "from math import sqrt\n",
    "a=eval(input('Enter the value of a: '))\n",
    "b=eval(input('Enter the value of b: '))\n",
    "c=eval(input('Enter the value of c: '))\n",
    "d=2*a\n",
    "e=(b**2)-4*(a*c)\n",
    "f=math.sqrt(e)\n",
    "x=(-b+f)/d\n",
    "y=(-b-f)/d\n",
    "if d==0:\n",
    "    print('Error')\n",
    "else:\n",
    "    print(x)\n",
    "    print(y)"
   ]
  },
  {
   "cell_type": "markdown",
   "metadata": {},
   "source": [
    "# Exercise 02"
   ]
  },
  {
   "cell_type": "code",
   "execution_count": 1,
   "metadata": {},
   "outputs": [
    {
     "name": "stdout",
     "output_type": "stream",
     "text": [
      "Enter the first term: 3\n",
      "Enter the common difference: 6\n",
      "Enter the nth term: 35\n",
      "The nth term is: 207\n",
      "Continue or not(y/n): y\n",
      "Enter the nth term: 35\n",
      "The nth term is: 207\n",
      "Continue or not(y/n): y\n",
      "Enter the nth term: 36\n",
      "The nth term is: 213\n",
      "Continue or not(y/n): n\n"
     ]
    }
   ],
   "source": [
    "a=int(input('Enter the first term: '))\n",
    "d=int(input('Enter the common difference: '))\n",
    "while True:\n",
    "    n=int(input('Enter the nth term: '))\n",
    "    an=a+(n-1)*d\n",
    "    print('The nth term is:',an)\n",
    "    again=input('Continue or not(yes/no): ')\n",
    "    if again=='y':\n",
    "        continue\n",
    "    else:\n",
    "        break"
   ]
  },
  {
   "cell_type": "markdown",
   "metadata": {},
   "source": [
    "# Exercise 03"
   ]
  },
  {
   "cell_type": "code",
   "execution_count": 1,
   "metadata": {},
   "outputs": [
    {
     "name": "stdout",
     "output_type": "stream",
     "text": [
      "Enter a string: moM\n",
      "It is palindrome.\n",
      "Wanna check again?(y/n): n\n"
     ]
    }
   ],
   "source": [
    "def palindrome(x):\n",
    "    y=''\n",
    "    for a in x:\n",
    "        y=a.casefold()+y\n",
    "    return y\n",
    "while True:\n",
    "    b=input('Enter a string: ')\n",
    "    case=b.casefold()\n",
    "    c=palindrome(case)\n",
    "    if c==case:\n",
    "        print('It is palindrome.')\n",
    "    else:\n",
    "        print('It is not palindrome.')\n",
    "    z=input('Wanna check again?(y/n): ')\n",
    "    if z!='y'or'Y':\n",
    "        break"
   ]
  },
  {
   "cell_type": "markdown",
   "metadata": {},
   "source": [
    "# Exercise 04"
   ]
  },
  {
   "cell_type": "code",
   "execution_count": 13,
   "metadata": {},
   "outputs": [
    {
     "name": "stdout",
     "output_type": "stream",
     "text": [
      "Enter your name: Abdul Wassay\n",
      "Enter your father's name: Sardar Ahmed\n",
      "Enter your roll number: 1550\n",
      "Enter your subjects name: Physics\n",
      "Enter your marks in subject(Out of 100): 60\n",
      "Enter your subjects name: Maths\n",
      "Enter your marks in subject(Out of 100): 80\n",
      "Enter your subjects name: English\n",
      "Enter your marks in subject(Out of 100): 85\n",
      "Enter your subjects name: Urdu\n",
      "Enter your marks in subject(Out of 100): 87\n",
      "Enter your subjects name: Islamiat\n",
      "Enter your marks in subject(Out of 100): 90\n",
      "\n",
      "Name: Abdul Wassay\n",
      "Father's Name: Sardar Ahmed\n",
      "Roll No. 1550\n",
      "Subjects   Total Marks   Obtained Marks\n",
      "Physics       100             60\n",
      "Maths           100             80\n",
      "English       100             85\n",
      "Urdu           100             87\n",
      "Islamiat       100             90\n",
      "\n",
      "Total Marks= 500       Obtained Marks 402\n",
      "Grade: A1\n"
     ]
    }
   ],
   "source": [
    "n=input('Enter your name: ')\n",
    "fn=input(\"Enter your father's name: \")\n",
    "rn=int(input('Enter your roll number: '))\n",
    "s1,sm1=input('Enter your subjects name: '),eval(input('Enter your marks in subject(Out of 100): '))\n",
    "s2,sm2=input('Enter your subjects name: '),eval(input('Enter your marks in subject(Out of 100): '))\n",
    "s3,sm3=input('Enter your subjects name: '),eval(input('Enter your marks in subject(Out of 100): '))\n",
    "s4,sm4=input('Enter your subjects name: '),eval(input('Enter your marks in subject(Out of 100): '))\n",
    "s5,sm5=input('Enter your subjects name: '),eval(input('Enter your marks in subject(Out of 100): '))\n",
    "marks=sm1+sm2+sm3+sm4+sm5\n",
    "t=500\n",
    "if marks >= 400:\n",
    "    g=\"A1\"\n",
    "elif (marks>=350 and marks<=399):\n",
    "    g=\"A\"\n",
    "elif (marks>=300 and marks<=349):\n",
    "    g=\"B\"    \n",
    "elif (marks>=250 and marks<=299):\n",
    "    g=\"C\"\n",
    "elif (marks>=200 and marks<=249):\n",
    "    g=\"D\"\n",
    "elif (marks>=150 and marks<=199):\n",
    "    g=\"E\"\n",
    "elif (marks<150):\n",
    "    g=\"Fail\"\n",
    "print('')\n",
    "print('Name:',n)\n",
    "print(\"Father's Name:\",fn)\n",
    "print('Roll No.',rn)\n",
    "print('')\n",
    "print('Subjects','','','Total Marks','','','Obtained Marks')\n",
    "print(s1,'      100            ',   sm1 )\n",
    "print(s2,'      100            ',   sm2 )\n",
    "print(s3,'      100            ',   sm3 )\n",
    "print(s4,'        100            ',   sm4 )\n",
    "print(s5,'       100            ',   sm5 )\n",
    "print('')\n",
    "print('Total Marks=',t,'      Obtained Marks=' , marks)\n",
    "print('Grade:',g)"
   ]
  },
  {
   "cell_type": "markdown",
   "metadata": {},
   "source": [
    "# Exercise 05"
   ]
  },
  {
   "cell_type": "code",
   "execution_count": 3,
   "metadata": {},
   "outputs": [
    {
     "name": "stdout",
     "output_type": "stream",
     "text": [
      "Input number of rows: 2\n",
      "Input number of columns: 4\n",
      "enter inital value:8\n",
      "enter final value:12\n",
      "[[8, 9, 10, 11], [0, 0, 0, 0]]\n",
      "[[8, 9, 10, 11], [0, 0, 0, 0]]\n"
     ]
    }
   ],
   "source": [
    "row_num = int(input(\"Input number of rows: \"))\n",
    "col_num = int(input(\"Input number of columns: \"))\n",
    "n=int(input(\"enter inital value:\"))\n",
    "m=int(input(\"enter final value:\"))\n",
    "multi_list = [[0 for col in range(col_num)] for row in range(row_num)]\n",
    "for row in range(row_num):\n",
    "    for col in range(col_num):\n",
    "        if n==m:\n",
    "            break\n",
    "        else:\n",
    "            multi_list[row][col]= n\n",
    "            n=n+1\n",
    "\n",
    "    print(multi_list)"
   ]
  },
  {
   "cell_type": "markdown",
   "metadata": {},
   "source": [
    "# Exercise  06"
   ]
  },
  {
   "cell_type": "code",
   "execution_count": 20,
   "metadata": {},
   "outputs": [
    {
     "name": "stdout",
     "output_type": "stream",
     "text": [
      "Enter value of parameter x1: 2\n",
      "Enter value of parameter x2: 2\n",
      "Enter value of parameter x3: 2\n",
      "Enter value of parameter x4: 2\n",
      "Enter value of parameter y1: 2\n",
      "Enter value of parameter y2: 2\n",
      "Enter value of parameter y3: 2\n",
      "Enter value of parameter y4: 2\n",
      "[4, 4]\n",
      "[4, 4]\n"
     ]
    }
   ],
   "source": [
    "#For Matrix X\n",
    "x1,x2=eval(input('Enter value of parameter x1: ')),eval(input('Enter value of parameter x2: '))\n",
    "x3,x4=eval(input('Enter value of parameter x3: ')),eval(input('Enter value of parameter x4: '))\n",
    "#For Matrix Y\n",
    "y1,y2=eval(input('Enter value of parameter y1: ')),eval(input('Enter value of parameter y2: '))\n",
    "y3,y4=eval(input('Enter value of parameter y3: ')),eval(input('Enter value of parameter y4: '))\n",
    "x=[[x1,x2], \n",
    "    [x3 ,x4]] \n",
    "y=[[y1,y2], \n",
    "    [y3,y4]]   \n",
    "result = [[x[i][j] + y[i][j]  for j in range\n",
    "(len(x[0]))] for i in range(len(x))] \n",
    "for r in result: \n",
    "    print(r)"
   ]
  },
  {
   "cell_type": "markdown",
   "metadata": {},
   "source": [
    "# Exercise 07"
   ]
  },
  {
   "cell_type": "code",
   "execution_count": 2,
   "metadata": {},
   "outputs": [
    {
     "name": "stdout",
     "output_type": "stream",
     "text": [
      "Enter value of parameter x1: 2\n",
      "Enter value of parameter x2: 2\n",
      "Enter value of parameter x3: 2\n",
      "Enter value of parameter x4: 2\n",
      "Enter value of parameter y1: 2\n",
      "Enter value of parameter y2: 2\n",
      "Enter value of parameter y3: 22\n",
      "Enter value of parameter y4: 2\n",
      "[48, 8]\n",
      "[48, 8]\n"
     ]
    }
   ],
   "source": [
    "#For Matrix X\n",
    "x1,x2=eval(input('Enter value of parameter x1: ')),eval(input('Enter value of parameter x2: '))\n",
    "x3,x4=eval(input('Enter value of parameter x3: ')),eval(input('Enter value of parameter x4: '))\n",
    "#For Matrix Y\n",
    "y1,y2=eval(input('Enter value of parameter y1: ')),eval(input('Enter value of parameter y2: '))\n",
    "y3,y4=eval(input('Enter value of parameter y3: ')),eval(input('Enter value of parameter y4: '))\n",
    "x=[[x1,x2], \n",
    "    [x3 ,x4]] \n",
    "y=[[y1,y2], \n",
    "    [y3,y4]]\n",
    "result = [[0,0],\n",
    "         [0,0]]\n",
    "for i in range(len(x)):\n",
    "    for j in range(len(y[0])):\n",
    "        for k in range(len(y)):\n",
    "            result[i][j] += x[i][k] * y[k][j]\n",
    "for r in result:\n",
    "    print(r)"
   ]
  },
  {
   "cell_type": "markdown",
   "metadata": {},
   "source": []
  }
 ],
 "metadata": {
  "kernelspec": {
   "display_name": "Python 3",
   "language": "python",
   "name": "python3"
  },
  "language_info": {
   "codemirror_mode": {
    "name": "ipython",
    "version": 3
   },
   "file_extension": ".py",
   "mimetype": "text/x-python",
   "name": "python",
   "nbconvert_exporter": "python",
   "pygments_lexer": "ipython3",
   "version": "3.7.3"
  }
 },
 "nbformat": 4,
 "nbformat_minor": 2
}
