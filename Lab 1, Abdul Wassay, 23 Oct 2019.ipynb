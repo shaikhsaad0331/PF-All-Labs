{
 "cells": [
  {
   "cell_type": "markdown",
   "metadata": {},
   "source": [
    "# Abdul Wassay, 19B-080-SE\n",
    "# Section B, 23 Oct"
   ]
  },
  {
   "cell_type": "markdown",
   "metadata": {},
   "source": [
    "# Task 1"
   ]
  },
  {
   "cell_type": "code",
   "execution_count": 22,
   "metadata": {},
   "outputs": [
    {
     "name": "stdout",
     "output_type": "stream",
     "text": [
      "Enter Temperature in Clesius:30\n",
      "Temperature: 30 Celsius= 86.0 F\n"
     ]
    }
   ],
   "source": [
    "Celsius= int(input(\"Enter Temperature in Clesius: \"))\n",
    "Fahrenheit= Celsius * (9.0 / 5.0) + 32\n",
    "print (\"Temperature: \", Celsius, \"Celsius: \", Fahrenheit, \"F\")"
   ]
  },
  {
   "cell_type": "markdown",
   "metadata": {},
   "source": [
    "# Task 2"
   ]
  },
  {
   "cell_type": "code",
   "execution_count": 5,
   "metadata": {},
   "outputs": [
    {
     "name": "stdout",
     "output_type": "stream",
     "text": [
      "Enter Temperature in Fahrenheit45\n",
      "Temperature: 45 Fahrenheit= 7.222222222222222 C\n"
     ]
    }
   ],
   "source": [
    "Fahrenheit= int(input(\"Enter Temperature in Fahrenheit\"))\n",
    "Celsius= (Fahrenheit - 32) * 5.0/9.0\n",
    "print (\"Temperature:\", Fahrenheit, \"Fahrenheit=\", Celsius, \"C\")"
   ]
  },
  {
   "cell_type": "markdown",
   "metadata": {},
   "source": [
    "# Task 3"
   ]
  },
  {
   "cell_type": "code",
   "execution_count": 6,
   "metadata": {},
   "outputs": [
    {
     "name": "stdout",
     "output_type": "stream",
     "text": [
      "Enter the Base of the rectangle:45\n",
      "Enter the Width of Triangle:23\n",
      "The Area of Rectangle is 1035\n"
     ]
    }
   ],
   "source": [
    "Base= int(input(\"Enter the Base of the rectangle:\"))\n",
    "Width= int(input(\"Enter the Width of Triangle:\"))\n",
    "Area= Base * Width\n",
    "print (\"The Area of Rectangle is\", Area)\n"
   ]
  },
  {
   "cell_type": "markdown",
   "metadata": {},
   "source": [
    "# Task 4"
   ]
  },
  {
   "cell_type": "code",
   "execution_count": 7,
   "metadata": {},
   "outputs": [
    {
     "name": "stdout",
     "output_type": "stream",
     "text": [
      "Enter the Radius of Sphere:34\n",
      "The Volume of Sphere is 164657.55733333333\n"
     ]
    }
   ],
   "source": [
    "R= int(input(\"Enter the Radius of Sphere:\"))\n",
    "V= (4/3) * 3.142 * R * R * R\n",
    "print (\"The Volume of Sphere is\", V)"
   ]
  },
  {
   "cell_type": "markdown",
   "metadata": {},
   "source": [
    "# Task 5"
   ]
  },
  {
   "cell_type": "code",
   "execution_count": 8,
   "metadata": {},
   "outputs": [
    {
     "name": "stdout",
     "output_type": "stream",
     "text": [
      "Enter a name in any case:hahHAHAHahahHa\n",
      "HAHHAHAHAHAHHA hahhahahahahha Hahhahahahahha\n"
     ]
    }
   ],
   "source": [
    "Text= input(\"Enter a name in any case:\")\n",
    "print (Text.upper(), Text.lower(), Text.title())"
   ]
  },
  {
   "cell_type": "markdown",
   "metadata": {},
   "source": [
    "# The End"
   ]
  }
 ],
 "metadata": {
  "kernelspec": {
   "display_name": "Python 3",
   "language": "python",
   "name": "python3"
  },
  "language_info": {
   "codemirror_mode": {
    "name": "ipython",
    "version": 3
   },
   "file_extension": ".py",
   "mimetype": "text/x-python",
   "name": "python",
   "nbconvert_exporter": "python",
   "pygments_lexer": "ipython3",
   "version": "3.7.3"
  }
 },
 "nbformat": 4,
 "nbformat_minor": 2
}
